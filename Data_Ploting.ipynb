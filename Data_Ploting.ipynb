{
  "nbformat": 4,
  "nbformat_minor": 0,
  "metadata": {
    "colab": {
      "provenance": []
    },
    "kernelspec": {
      "name": "python3",
      "display_name": "Python 3"
    },
    "language_info": {
      "name": "python"
    }
  },
  "cells": [
    {
      "cell_type": "code",
      "execution_count": 1,
      "metadata": {
        "id": "dmQY5LM7YHfm"
      },
      "outputs": [],
      "source": [
        "import numpy as np\n",
        "import matplotlib.pyplot as plt"
      ]
    },
    {
      "cell_type": "code",
      "source": [
        "x = np.random.normal(100, 20, 200)"
      ],
      "metadata": {
        "id": "35shWzbAYQb5"
      },
      "execution_count": 2,
      "outputs": []
    },
    {
      "cell_type": "markdown",
      "source": [
        "# Box Plot"
      ],
      "metadata": {
        "id": "veVyLm-mbnbo"
      }
    },
    {
      "cell_type": "code",
      "source": [
        "plt.boxplot(x)\n",
        "plt.show()"
      ],
      "metadata": {
        "colab": {
          "base_uri": "https://localhost:8080/",
          "height": 269
        },
        "id": "086l1H49YW1w",
        "outputId": "8bd3645a-1877-46f0-e9ab-11db0206af39"
      },
      "execution_count": 3,
      "outputs": [
        {
          "output_type": "display_data",
          "data": {
            "text/plain": [
              "<Figure size 432x288 with 1 Axes>"
            ],
            "image/png": "[encoded data removed]"
          },
          "metadata": {
            "needs_background": "light"
          }
        }
      ]
    },
    {
      "cell_type": "code",
      "source": [
        "y = np.quantile(x, [0,0.25,0.5,0.75,1])\n",
        "y"
      ],
      "metadata": {
        "colab": {
          "base_uri": "https://localhost:8080/"
        },
        "id": "eIQqdhDaY9KJ",
        "outputId": "7671d962-4f55-4a2e-c3fa-4d22309163a0"
      },
      "execution_count": 4,
      "outputs": [
        {
          "output_type": "execute_result",
          "data": {
            "text/plain": [
              "array([ 46.07623872,  90.28950586, 102.53903701, 116.69476555,\n",
              "       154.90822763])"
            ]
          },
          "metadata": {},
          "execution_count": 4
        }
      ]
    },
    {
      "cell_type": "code",
      "source": [
        "IQR = y[3] - y[1]\n",
        "IQR"
      ],
      "metadata": {
        "colab": {
          "base_uri": "https://localhost:8080/"
        },
        "id": "Nv7DFQkmZr_V",
        "outputId": "d05d1ba4-bb21-4277-a2ff-ab647602c0e7"
      },
      "execution_count": 5,
      "outputs": [
        {
          "output_type": "execute_result",
          "data": {
            "text/plain": [
              "26.40525968914733"
            ]
          },
          "metadata": {},
          "execution_count": 5
        }
      ]
    },
    {
      "cell_type": "code",
      "source": [
        "print('The range of the data is [', y[1] - 1.5*IQR,',', y[3] + 1.5*IQR,'].' )"
      ],
      "metadata": {
        "colab": {
          "base_uri": "https://localhost:8080/"
        },
        "id": "D4yOrIGbajhP",
        "outputId": "f3bb9f16-1fe1-4298-ad68-32cd63f747cb"
      },
      "execution_count": 6,
      "outputs": [
        {
          "output_type": "stream",
          "name": "stdout",
          "text": [
            "The range of the data is [ 50.68161632945278 , 156.30265508604208 ].\n"
          ]
        }
      ]
    },
    {
      "cell_type": "markdown",
      "source": [
        "# Histogram"
      ],
      "metadata": {
        "id": "EfAN5QVEdyg0"
      }
    },
    {
      "cell_type": "code",
      "source": [
        "no, bins, _ = plt.hist(x)"
      ],
      "metadata": {
        "colab": {
          "base_uri": "https://localhost:8080/",
          "height": 265
        },
        "id": "8cg---tNbBvn",
        "outputId": "ab921f33-4255-4977-f448-43166467980f"
      },
      "execution_count": 7,
      "outputs": [
        {
          "output_type": "display_data",
          "data": {
            "text/plain": [
              "<Figure size 432x288 with 1 Axes>"
            ],
            "image/png": "[encoded data removed]"
          },
          "metadata": {
            "needs_background": "light"
          }
        }
      ]
    },
    {
      "cell_type": "markdown",
      "source": [
        "# Pearson correlation coefficient & Spearman's rank correlation coefficient\n"
      ],
      "metadata": {
        "id": "9DFuVt0ziN98"
      }
    },
    {
      "cell_type": "markdown",
      "source": [
        "#### On Sin()"
      ],
      "metadata": {
        "id": "CVRQ_uB-jXz1"
      }
    },
    {
      "cell_type": "code",
      "source": [
        "import math\n",
        "\n",
        "def NumGen(x):\n",
        "  return math.sin(x)"
      ],
      "metadata": {
        "id": "i8qcOKAMiOi2"
      },
      "execution_count": 12,
      "outputs": []
    },
    {
      "cell_type": "code",
      "source": [
        "x = np.random.randint(100, size=(100))\n",
        "y = np.array([NumGen(i) for i in x])\n",
        "\n",
        "plt.scatter(x,y)"
      ],
      "metadata": {
        "colab": {
          "base_uri": "https://localhost:8080/",
          "height": 282
        },
        "id": "5d-t0QF-iOlT",
        "outputId": "07ad8dda-2c47-4878-d40b-6bccb428b7be"
      },
      "execution_count": 13,
      "outputs": [
        {
          "output_type": "execute_result",
          "data": {
            "text/plain": [
              "<matplotlib.collections.PathCollection at 0x7fcce68dfe90>"
            ]
          },
          "metadata": {},
          "execution_count": 13
        },
        {
          "output_type": "display_data",
          "data": {
            "text/plain": [
              "<Figure size 432x288 with 1 Axes>"
            ],
            "image/png": "[encoded data removed]"
          },
          "metadata": {
            "needs_background": "light"
          }
        }
      ]
    },
    {
      "cell_type": "code",
      "source": [
        "pearsons_coefficient = np.corrcoef(x, y)\n",
        "print(\"The pearson's coeffient of the x and y inputs are: \" ,pearsons_coefficient[0][1])"
      ],
      "metadata": {
        "colab": {
          "base_uri": "https://localhost:8080/"
        },
        "id": "OujP23cSd5l-",
        "outputId": "fdcf6937-579a-44c2-e4e1-e1365210bc5e"
      },
      "execution_count": 14,
      "outputs": [
        {
          "output_type": "stream",
          "name": "stdout",
          "text": [
            "The pearson's coeffient of the x and y inputs are:  0.1254208419137773\n"
          ]
        }
      ]
    },
    {
      "cell_type": "code",
      "source": [
        "from scipy.stats import spearmanr\n",
        "\n",
        "coef, p = spearmanr(x, y)\n",
        "print('Spearmans correlation coefficient: %.3f' % coef)\n",
        "# interpret the significance\n",
        "alpha = 0.05\n",
        "if p > alpha:\n",
        "\tprint('Samples are uncorrelated (fail to reject H0) p=%.3f' % p)\n",
        "else:\n",
        "\tprint('Samples are correlated (reject H0) p=%.3f' % p)"
      ],
      "metadata": {
        "colab": {
          "base_uri": "https://localhost:8080/"
        },
        "id": "y7NYHE-4iTgU",
        "outputId": "b1e8f65a-860c-4f9b-b464-f3efadb29bcd"
      },
      "execution_count": 15,
      "outputs": [
        {
          "output_type": "stream",
          "name": "stdout",
          "text": [
            "Spearmans correlation coefficient: 0.106\n",
            "Samples are uncorrelated (fail to reject H0) p=0.294\n"
          ]
        }
      ]
    },
    {
      "cell_type": "markdown",
      "source": [
        "#### On arctan()"
      ],
      "metadata": {
        "id": "S8Tm60nMjfTM"
      }
    },
    {
      "cell_type": "code",
      "source": [
        "def NumGen(x):\n",
        "  return np.arctan(x)"
      ],
      "metadata": {
        "id": "S2rkVZbriXGF"
      },
      "execution_count": 16,
      "outputs": []
    },
    {
      "cell_type": "code",
      "source": [
        "x = np.random.randint(100, size=(1000))\n",
        "y = np.array([NumGen(i) for i in x])\n",
        "\n",
        "plt.scatter(x,y)"
      ],
      "metadata": {
        "colab": {
          "base_uri": "https://localhost:8080/",
          "height": 282
        },
        "id": "oJb4EyQQjl_U",
        "outputId": "d5a8777b-00ea-48a8-858c-b17da420392c"
      },
      "execution_count": 20,
      "outputs": [
        {
          "output_type": "execute_result",
          "data": {
            "text/plain": [
              "<matplotlib.collections.PathCollection at 0x7fcce5ac1350>"
            ]
          },
          "metadata": {},
          "execution_count": 20
        },
        {
          "output_type": "display_data",
          "data": {
            "text/plain": [
              "<Figure size 432x288 with 1 Axes>"
            ],
            "image/png": "[encoded data removed]"
          },
          "metadata": {
            "needs_background": "light"
          }
        }
      ]
    },
    {
      "cell_type": "code",
      "source": [
        "pearsons_coefficient = np.corrcoef(x, y)\n",
        "print(\"The pearson's coeffient of the x and y inputs are: \" ,pearsons_coefficient[0][1])"
      ],
      "metadata": {
        "colab": {
          "base_uri": "https://localhost:8080/"
        },
        "id": "S0J9BQgDjoid",
        "outputId": "b58fbf95-3aec-4275-a079-5dcd67aa4e82"
      },
      "execution_count": 21,
      "outputs": [
        {
          "output_type": "stream",
          "name": "stdout",
          "text": [
            "The pearson's coeffient of the x and y inputs are:  0.3880074482259425\n"
          ]
        }
      ]
    },
    {
      "cell_type": "code",
      "source": [
        "coef, p = spearmanr(x, y)\n",
        "print('Spearmans correlation coefficient: %.3f' % coef)\n",
        "# interpret the significance\n",
        "alpha = 0.05\n",
        "if p > alpha:\n",
        "\tprint('Samples are uncorrelated (fail to reject H0) p=%.3f' % p)\n",
        "else:\n",
        "\tprint('Samples are correlated (reject H0) p=%.3f' % p)"
      ],
      "metadata": {
        "colab": {
          "base_uri": "https://localhost:8080/"
        },
        "id": "lBX3UzKvjyPU",
        "outputId": "a4953377-4d6e-4b57-cad5-e2f16b8b3e07"
      },
      "execution_count": 22,
      "outputs": [
        {
          "output_type": "stream",
          "name": "stdout",
          "text": [
            "Spearmans correlation coefficient: 1.000\n",
            "Samples are correlated (reject H0) p=0.000\n"
          ]
        }
      ]
    },
    {
      "cell_type": "code",
      "source": [],
      "metadata": {
        "id": "cixfUQscj2wc"
      },
      "execution_count": null,
      "outputs": []
    }
  ]
}